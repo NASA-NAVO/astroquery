{
 "cells": [
  {
   "cell_type": "code",
   "execution_count": 1,
   "metadata": {
    "collapsed": true
   },
   "outputs": [],
   "source": [
    "import astroquery\n",
    "from astroquery.vo import Registry\n",
    "\n",
    "#print(astroquery.__file__)\n",
    "\n",
    "# For output using Markdown.\n",
    "from IPython.display import Markdown, display\n",
    "\n"
   ]
  },
  {
   "cell_type": "code",
   "execution_count": 2,
   "metadata": {},
   "outputs": [
    {
     "name": "stdout",
     "output_type": "stream",
     "text": [
      "ADQL =  \n",
      "          select res.short_name,cap.ivoid\n",
      "           from rr.capability cap\n",
      "           natural join rr.resource res\n",
      "           where cap.cap_type='simpleimageaccess' and cap.ivoid like '%nasa.heasarc%'\n"
     ]
    },
    {
     "data": {
      "text/html": [
       "&lt;Table masked=True length=108&gt;\n",
       "<table id=\"table4508799496\" class=\"table-striped table-bordered table-condensed\">\n",
       "<thead><tr><th>short_name</th><th>ivoid</th></tr></thead>\n",
       "<thead><tr><th>object</th><th>object</th></tr></thead>\n",
       "<tr><td>GOODSHerschel1</td><td>ivo://nasa.heasarc/skyview/goodsherschel1</td></tr>\n",
       "<tr><td>GOODSHerschel2</td><td>ivo://nasa.heasarc/skyview/goodsherschel2</td></tr>\n",
       "<tr><td>GOODSHerschel3</td><td>ivo://nasa.heasarc/skyview/goodsherschel3</td></tr>\n",
       "<tr><td>GOODSHerschel4</td><td>ivo://nasa.heasarc/skyview/goodsherschel4</td></tr>\n",
       "<tr><td>RXTE</td><td>ivo://nasa.heasarc/skyview/rxte</td></tr>\n",
       "<tr><td>GalexNear</td><td>ivo://nasa.heasarc/skyview/galexnear</td></tr>\n",
       "<tr><td>INTGAL</td><td>ivo://nasa.heasarc/skyview/intgal</td></tr>\n",
       "<tr><td>TGSS</td><td>ivo://nasa.heasarc/skyview/tgss</td></tr>\n",
       "<tr><td>GOODS-ACS</td><td>ivo://nasa.heasarc/skyview/goods-acs</td></tr>\n",
       "<tr><td>Planck</td><td>ivo://nasa.heasarc/skyview/planck</td></tr>\n",
       "<tr><td>...</td><td>...</td></tr>\n",
       "<tr><td>RXTE3_20k_flux</td><td>ivo://nasa.heasarc/skyview/rxte3_20k_flux</td></tr>\n",
       "<tr><td>SDSS</td><td>ivo://nasa.heasarc/skyview/sdss</td></tr>\n",
       "<tr><td>SDSSDR7</td><td>ivo://nasa.heasarc/skyview/sdssdr7</td></tr>\n",
       "<tr><td>PSPC0.6Int</td><td>ivo://nasa.heasarc/skyview/pspc0.6int</td></tr>\n",
       "<tr><td>RASS3</td><td>ivo://nasa.heasarc/skyview/rass3</td></tr>\n",
       "<tr><td>UltraVista-H</td><td>ivo://nasa.heasarc/skyview/ultravista-h</td></tr>\n",
       "<tr><td>ASCA</td><td>ivo://nasa.heasarc/ascamaster</td></tr>\n",
       "<tr><td>RASSMASTER</td><td>ivo://nasa.heasarc/rassmaster</td></tr>\n",
       "<tr><td>WFCF</td><td>ivo://nasa.heasarc/skyview/wfcf</td></tr>\n",
       "<tr><td>SwiftBAT</td><td>ivo://nasa.heasarc/swiftbalog</td></tr>\n",
       "</table>"
      ],
      "text/plain": [
       "<Table masked=True length=108>\n",
       "  short_name                     ivoid                  \n",
       "    object                       object                 \n",
       "-------------- -----------------------------------------\n",
       "GOODSHerschel1 ivo://nasa.heasarc/skyview/goodsherschel1\n",
       "GOODSHerschel2 ivo://nasa.heasarc/skyview/goodsherschel2\n",
       "GOODSHerschel3 ivo://nasa.heasarc/skyview/goodsherschel3\n",
       "GOODSHerschel4 ivo://nasa.heasarc/skyview/goodsherschel4\n",
       "          RXTE           ivo://nasa.heasarc/skyview/rxte\n",
       "     GalexNear      ivo://nasa.heasarc/skyview/galexnear\n",
       "        INTGAL         ivo://nasa.heasarc/skyview/intgal\n",
       "          TGSS           ivo://nasa.heasarc/skyview/tgss\n",
       "     GOODS-ACS      ivo://nasa.heasarc/skyview/goods-acs\n",
       "        Planck         ivo://nasa.heasarc/skyview/planck\n",
       "           ...                                       ...\n",
       "RXTE3_20k_flux ivo://nasa.heasarc/skyview/rxte3_20k_flux\n",
       "          SDSS           ivo://nasa.heasarc/skyview/sdss\n",
       "       SDSSDR7        ivo://nasa.heasarc/skyview/sdssdr7\n",
       "    PSPC0.6Int     ivo://nasa.heasarc/skyview/pspc0.6int\n",
       "         RASS3          ivo://nasa.heasarc/skyview/rass3\n",
       "  UltraVista-H   ivo://nasa.heasarc/skyview/ultravista-h\n",
       "          ASCA             ivo://nasa.heasarc/ascamaster\n",
       "    RASSMASTER             ivo://nasa.heasarc/rassmaster\n",
       "          WFCF           ivo://nasa.heasarc/skyview/wfcf\n",
       "      SwiftBAT             ivo://nasa.heasarc/swiftbalog"
      ]
     },
     "execution_count": 2,
     "metadata": {},
     "output_type": "execute_result"
    }
   ],
   "source": [
    "# Perform the TAP query.  The results are an astropy Table.\n",
    "results = Registry.query(source='nasa.heasarc', service_type='image')\n",
    "\n",
    "# Display results in a readable way including the \n",
    "# short_name, ivoid, res_description and reference_url.\n",
    "x = \"\"\"\n",
    "for row in results:\n",
    "    md = '### {} ({})'.format(row['short_name'], row['ivoid'])\n",
    "    display(Markdown(md))\n",
    "    print (row['res_description'])\n",
    "    print ('(More info: {})'.format(row['reference_url']))\n",
    "    \"\"\"\n",
    "results"
   ]
  }
 ],
 "metadata": {
  "kernelspec": {
   "display_name": "Python 3",
   "language": "python",
   "name": "python3"
  },
  "language_info": {
   "codemirror_mode": {
    "name": "ipython",
    "version": 3
   },
   "file_extension": ".py",
   "mimetype": "text/x-python",
   "name": "python",
   "nbconvert_exporter": "python",
   "pygments_lexer": "ipython3",
   "version": "3.6.1"
  }
 },
 "nbformat": 4,
 "nbformat_minor": 2
}
